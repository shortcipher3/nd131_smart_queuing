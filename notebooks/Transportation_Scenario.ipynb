{
  "nbformat": 4,
  "nbformat_minor": 0,
  "metadata": {
    "kernelspec": {
      "display_name": "Python 3",
      "language": "python",
      "name": "python3"
    },
    "language_info": {
      "codemirror_mode": {
        "name": "ipython",
        "version": 3
      },
      "file_extension": ".py",
      "mimetype": "text/x-python",
      "name": "python",
      "nbconvert_exporter": "python",
      "pygments_lexer": "ipython3",
      "version": "3.6.3"
    },
    "colab": {
      "name": "Transportation_Scenario.ipynb",
      "provenance": [],
      "include_colab_link": true
    }
  },
  "cells": [
    {
      "cell_type": "markdown",
      "metadata": {
        "id": "view-in-github",
        "colab_type": "text"
      },
      "source": [
        "<a href=\"https://colab.research.google.com/github/shortcipher3/nd131_smart_queuing/blob/master/notebooks/Transportation_Scenario.ipynb\" target=\"_parent\"><img src=\"https://colab.research.google.com/assets/colab-badge.svg\" alt=\"Open In Colab\"/></a>"
      ]
    },
    {
      "cell_type": "markdown",
      "metadata": {
        "id": "cuCqw9oC3JfU",
        "colab_type": "text"
      },
      "source": [
        "# Smart Queue Monitoring System - Transportation Scenario\n",
        "\n",
        "## Overview\n",
        "Now that you have your Python script and job submission script, you're ready to request an **IEI Tank-870** edge node and run inference on the different hardware types (CPU, GPU, VPU, FPGA).\n",
        "\n",
        "After the inference is completed, the output video and stats files need to be retrieved and stored in the workspace, which can then be viewed within the Jupyter Notebook.\n",
        "\n",
        "## Objectives\n",
        "* Submit inference jobs to Intel's DevCloud using the `qsub` command.\n",
        "* Retrieve and review the results.\n",
        "* After testing, go back to the proposal doc and update your original proposed hardware device."
      ]
    },
    {
      "cell_type": "markdown",
      "metadata": {
        "id": "HRwESH073JfW",
        "colab_type": "text"
      },
      "source": [
        "## Step 0: Set Up\n",
        "\n",
        "#### IMPORTANT: Set up paths so we can run Dev Cloud utilities\n",
        "You *must* run this every time you enter a Workspace session.\n",
        "(Tip: select the cell and use **Shift+Enter** to run the cell.)"
      ]
    },
    {
      "cell_type": "code",
      "metadata": {
        "id": "ibGOKwvX3JfX",
        "colab_type": "code",
        "colab": {}
      },
      "source": [
        "%env PATH=/opt/conda/bin:/opt/spark-2.4.3-bin-hadoop2.7/bin:/opt/conda/bin:/usr/local/sbin:/usr/local/bin:/usr/sbin:/usr/bin:/sbin:/bin:/opt/intel_devcloud_support\n",
        "import os\n",
        "import sys\n",
        "sys.path.insert(0, os.path.abspath('/opt/intel_devcloud_support'))\n",
        "sys.path.insert(0, os.path.abspath('/opt/intel'))"
      ],
      "execution_count": 0,
      "outputs": []
    },
    {
      "cell_type": "markdown",
      "metadata": {
        "id": "NGyhjrbJ3Jfd",
        "colab_type": "text"
      },
      "source": [
        "### Step 0.1:  (Optional-step): Original Video\n",
        "\n",
        "If you are curious to see the input video, run the following cell to view the original video stream we'll be using for inference."
      ]
    },
    {
      "cell_type": "code",
      "metadata": {
        "id": "UMlNY_lv3Jfe",
        "colab_type": "code",
        "colab": {}
      },
      "source": [
        "import videoHtml\n",
        "videoHtml.videoHTML('Transportation', ['original_videos/Transportation.mp4'])"
      ],
      "execution_count": 0,
      "outputs": []
    },
    {
      "cell_type": "markdown",
      "metadata": {
        "id": "_B_mC7f83Jfk",
        "colab_type": "text"
      },
      "source": [
        "## Step 1 : Inference on a Video\n",
        "\n",
        "In the next few cells, You'll submit your job using the `qsub` command and retrieving the results for each job. Each of the cells below should submit a job to different edge compute nodes.\n",
        "\n",
        "The output of the cell is the `JobID` of your job, which you can use to track progress of a job with `liveQStat`.\n",
        "\n",
        "You will need to submit a job for each of the following hardware types:\n",
        "* **CPU**\n",
        "* **GPU**\n",
        "* **VPU**\n",
        "* **FPGA**\n",
        "\n",
        "**Note:** You will have to submit each job one at a time and retrieve their results. \n",
        "\n",
        "After submission, they will go into a queue and run as soon as the requested compute resources become available. \n",
        "(Tip: **shift+enter** will run the cell and automatically move you to the next cell.)\n",
        "\n",
        "If your job successfully runs and completes, once you retrieve your results, it should output a video and a stats text file in the `results/transportation/<DEVICE>` directory.\n",
        "\n",
        "For example, your **CPU** job should output its files in this directory:\n",
        "> **results/transportation/cpu**\n",
        "\n",
        "**Note**: To get the queue labels for the different hardware devices, you can go to [this link](https://devcloud.intel.com/edge/get_started/devcloud/).\n",
        "\n",
        "The following arguments should be passed to the job submission script after the `-F` flag:\n",
        "* Model path - `/data/models/intel/person-detection-retail-0013/<MODEL PRECISION>/`. You will need to adjust this path based on the model precision being using on the hardware.\n",
        "* Device - `CPU`, `GPU`, `MYRIAD`, `HETERO:FPGA,CPU`\n",
        "* Manufacturing video path - `/data/resources/transportation.mp4`\n",
        "* Manufacturing queue_param file path - `/data/queue_param/transportation.npy`\n",
        "* Output path - `/output/results/transportation/<DEVICE>` This should be adjusted based on the device used in the job.\n",
        "* Max num of people - This is the max number of people in queue before the system would redirect them to another queue."
      ]
    },
    {
      "cell_type": "markdown",
      "metadata": {
        "id": "hcQcv3s43Jfl",
        "colab_type": "text"
      },
      "source": [
        "## Step 1.1: Submit to an Edge Compute Node with an Intel® CPU\n",
        "In the cell below, write a script to submit a job to an <a \n",
        "    href=\"https://software.intel.com/en-us/iot/hardware/iei-tank-dev-kit-core\">IEI \n",
        "    Tank* 870-Q170</a> edge node with an <a \n",
        "    href=\"https://ark.intel.com/products/88186/Intel-Core-i5-6500TE-Processor-6M-Cache-up-to-3-30-GHz-\">Intel® Core™ i5-6500TE processor</a>. The inference workload should run on the CPU."
      ]
    },
    {
      "cell_type": "code",
      "metadata": {
        "id": "vJcswZER3Jfm",
        "colab_type": "code",
        "colab": {}
      },
      "source": [
        "#Submit job to the queue\n",
        "precision = 'FP32'\n",
        "device = 'CPU'\n",
        "device_node = 'tank-870:i5-6500te'\n",
        "model = f'/data/models/intel/person-detection-retail-0013/{precision}/person-detection-retail-0013'\n",
        "video = '/data/resources/transportation.mp4'\n",
        "queue_param = '/data/queue_param/transportation.npy'\n",
        "output = f'/output/results/transportation/{device}'\n",
        "people = '7'\n",
        "script = 'queue_job.sh'\n",
        "script_args = f'{model} {device} {video} {queue_param} {output} {people}'\n",
        "qsub_args = f'-d . -l nodes={device_node} -N store_core'\n",
        "command = f'qsub {script} {qsub_args} -F \"{script_args}\"'\n",
        "cpu_job_id = !$command\n",
        "\n",
        "print(cpu_job_id[0])"
      ],
      "execution_count": 0,
      "outputs": []
    },
    {
      "cell_type": "markdown",
      "metadata": {
        "id": "Zn_ifttE3Jfu",
        "colab_type": "text"
      },
      "source": [
        "#### Check Job Status\n",
        "\n",
        "To check on the job that was submitted, use `liveQStat` to check the status of the job.\n",
        "\n",
        "Column `S` shows the state of your running jobs.\n",
        "\n",
        "For example:\n",
        "- If `JOB ID`is in Q state, it is in the queue waiting for available resources.\n",
        "- If `JOB ID` is in R state, it is running."
      ]
    },
    {
      "cell_type": "code",
      "metadata": {
        "id": "TrOtUPnx3Jfv",
        "colab_type": "code",
        "colab": {}
      },
      "source": [
        "import liveQStat\n",
        "liveQStat.liveQStat()"
      ],
      "execution_count": 0,
      "outputs": []
    },
    {
      "cell_type": "markdown",
      "metadata": {
        "id": "PYx0OEBu3Jf2",
        "colab_type": "text"
      },
      "source": [
        "#### Get Results\n",
        "\n",
        "Run the next cell to retrieve your job's results."
      ]
    },
    {
      "cell_type": "code",
      "metadata": {
        "id": "wSTP3tmJ3Jf5",
        "colab_type": "code",
        "colab": {}
      },
      "source": [
        "import get_results\n",
        "get_results.getResults(cpu_job_id[0], filename='output.tgz', blocking=True)"
      ],
      "execution_count": 0,
      "outputs": []
    },
    {
      "cell_type": "markdown",
      "metadata": {
        "id": "tazuV0Dt3Jf-",
        "colab_type": "text"
      },
      "source": [
        "#### Unpack your output files and view stdout.log"
      ]
    },
    {
      "cell_type": "code",
      "metadata": {
        "id": "aCgRe9xL3JgA",
        "colab_type": "code",
        "colab": {}
      },
      "source": [
        "!tar zxf output.tgz"
      ],
      "execution_count": 0,
      "outputs": []
    },
    {
      "cell_type": "code",
      "metadata": {
        "id": "JR9prAce3JgH",
        "colab_type": "code",
        "colab": {}
      },
      "source": [
        "!cat stdout.log"
      ],
      "execution_count": 0,
      "outputs": []
    },
    {
      "cell_type": "markdown",
      "metadata": {
        "id": "fTm4jecB3JgP",
        "colab_type": "text"
      },
      "source": [
        "#### View stderr.log\n",
        "This can be used for debugging"
      ]
    },
    {
      "cell_type": "code",
      "metadata": {
        "id": "U10YwS3d3JgQ",
        "colab_type": "code",
        "colab": {}
      },
      "source": [
        "!cat stderr.log"
      ],
      "execution_count": 0,
      "outputs": []
    },
    {
      "cell_type": "markdown",
      "metadata": {
        "id": "fpC1lely3JgV",
        "colab_type": "text"
      },
      "source": [
        "#### View Output Video\n",
        "Run the cell below to view the output video. If inference was successfully run, you should see a video with bounding boxes drawn around each person detected."
      ]
    },
    {
      "cell_type": "code",
      "metadata": {
        "id": "3qCMcZju3JgW",
        "colab_type": "code",
        "colab": {}
      },
      "source": [
        "import videoHtml\n",
        "\n",
        "videoHtml.videoHTML('Transportation CPU', ['results/transportation/cpu/output_video.mp4'])"
      ],
      "execution_count": 0,
      "outputs": []
    },
    {
      "cell_type": "markdown",
      "metadata": {
        "id": "M1ub6WlE3Jgd",
        "colab_type": "text"
      },
      "source": [
        "## Step 1.2: Submit to an Edge Compute Node with CPU and IGPU\n",
        "In the cell below, write a script to submit a job to an <a \n",
        "    href=\"https://software.intel.com/en-us/iot/hardware/iei-tank-dev-kit-core\">IEI \n",
        "    Tank* 870-Q170</a> edge node with an <a href=\"https://ark.intel.com/products/88186/Intel-Core-i5-6500TE-Processor-6M-Cache-up-to-3-30-GHz-\">Intel® Core i5-6500TE</a>. The inference workload should run on the **Intel® HD Graphics 530** integrated GPU."
      ]
    },
    {
      "cell_type": "code",
      "metadata": {
        "id": "JHhywSi23Jgf",
        "colab_type": "code",
        "colab": {}
      },
      "source": [
        "#Submit job to the queue\n",
        "precision = 'FP32'\n",
        "device = 'GPU'\n",
        "device_node = 'tank-870:i5-6500te:intel-hd-530'\n",
        "model = f'/data/models/intel/person-detection-retail-0013/{precision}/person-detection-retail-0013'\n",
        "video = '/data/resources/transportation.mp4'\n",
        "queue_param = '/data/queue_param/transportation.npy'\n",
        "output = f'/output/results/transportation/{device}'\n",
        "people = '7'\n",
        "script = 'queue_job.sh'\n",
        "script_args = f'{model} {device} {video} {queue_param} {output} {people}'\n",
        "qsub_args = f'-d . -l nodes={device_node} -N store_core'\n",
        "command = f'qsub {script} {qsub_args} -F \"{script_args}\"'\n",
        "gpu_job_id = !$command\n",
        "\n",
        "print(gpu_job_id[0])"
      ],
      "execution_count": 0,
      "outputs": []
    },
    {
      "cell_type": "markdown",
      "metadata": {
        "id": "Ra6yoUri3Jgk",
        "colab_type": "text"
      },
      "source": [
        "### Check Job Status\n",
        "\n",
        "To check on the job that was submitted, use `liveQStat` to check the status of the job.\n",
        "\n",
        "Column `S` shows the state of your running jobs.\n",
        "\n",
        "For example:\n",
        "- If `JOB ID`is in Q state, it is in the queue waiting for available resources.\n",
        "- If `JOB ID` is in R state, it is running."
      ]
    },
    {
      "cell_type": "code",
      "metadata": {
        "id": "604Fht9W3Jgl",
        "colab_type": "code",
        "colab": {}
      },
      "source": [
        "import liveQStat\n",
        "liveQStat.liveQStat()"
      ],
      "execution_count": 0,
      "outputs": []
    },
    {
      "cell_type": "markdown",
      "metadata": {
        "id": "OMDW0vT43Jgr",
        "colab_type": "text"
      },
      "source": [
        "#### Get Results\n",
        "\n",
        "Run the next cell to retrieve your job's results."
      ]
    },
    {
      "cell_type": "code",
      "metadata": {
        "id": "-KVR1KR03Jgs",
        "colab_type": "code",
        "colab": {}
      },
      "source": [
        "import get_results\n",
        "get_results.getResults(gpu_job_id[0], filename='output.tgz', blocking=True)"
      ],
      "execution_count": 0,
      "outputs": []
    },
    {
      "cell_type": "markdown",
      "metadata": {
        "id": "gxRDsrdO3Jgy",
        "colab_type": "text"
      },
      "source": [
        "#### Unpack your output files and view stdout.log"
      ]
    },
    {
      "cell_type": "code",
      "metadata": {
        "id": "NcWYIQTG3Jgz",
        "colab_type": "code",
        "colab": {}
      },
      "source": [
        "!tar zxf output.tgz"
      ],
      "execution_count": 0,
      "outputs": []
    },
    {
      "cell_type": "code",
      "metadata": {
        "id": "hefQPWmj3Jg5",
        "colab_type": "code",
        "colab": {}
      },
      "source": [
        "!cat stdout.log"
      ],
      "execution_count": 0,
      "outputs": []
    },
    {
      "cell_type": "markdown",
      "metadata": {
        "id": "khpLXwwu3Jg9",
        "colab_type": "text"
      },
      "source": [
        "#### View stderr.log\n",
        "This can be used for debugging"
      ]
    },
    {
      "cell_type": "code",
      "metadata": {
        "id": "_ekpH3zF3Jg_",
        "colab_type": "code",
        "colab": {}
      },
      "source": [
        "!cat stderr.log"
      ],
      "execution_count": 0,
      "outputs": []
    },
    {
      "cell_type": "markdown",
      "metadata": {
        "id": "vdQoPCeK3JhD",
        "colab_type": "text"
      },
      "source": [
        "#### View Output Video\n",
        "Run the cell below to view the output video. If inference was successfully run, you should see a video with bounding boxes drawn around each person detected."
      ]
    },
    {
      "cell_type": "code",
      "metadata": {
        "id": "DfgCG9lm3JhD",
        "colab_type": "code",
        "colab": {}
      },
      "source": [
        "import videoHtml\n",
        "\n",
        "videoHtml.videoHTML('Transportation GPU', ['results/transportation/gpu/output_video.mp4'])"
      ],
      "execution_count": 0,
      "outputs": []
    },
    {
      "cell_type": "markdown",
      "metadata": {
        "id": "TzD_HnDn3JhK",
        "colab_type": "text"
      },
      "source": [
        "## Step 1.3: Submit to an Edge Compute Node with an Intel® Neural Compute Stick 2\n",
        "In the cell below, write a script to submit a job to an <a \n",
        "    href=\"https://software.intel.com/en-us/iot/hardware/iei-tank-dev-kit-core\">IEI \n",
        "    Tank 870-Q170</a> edge node with an <a href=\"https://ark.intel.com/products/88186/Intel-Core-i5-6500TE-Processor-6M-Cache-up-to-3-30-GHz-\">Intel Core i5-6500te CPU</a>. The inference workload should run on an <a \n",
        "    href=\"https://software.intel.com/en-us/neural-compute-stick\">Intel Neural Compute Stick 2</a> installed in this  node."
      ]
    },
    {
      "cell_type": "code",
      "metadata": {
        "id": "M2Cynhv23JhL",
        "colab_type": "code",
        "colab": {}
      },
      "source": [
        "#Submit job to the queue\n",
        "precision = 'FP32'\n",
        "device = 'MYRIAD'\n",
        "device_node = 'tank-870:i5-6500te:intel-hd-530:intel-ncs2'\n",
        "model = f'/data/models/intel/person-detection-retail-0013/{precision}/person-detection-retail-0013'\n",
        "video = '/data/resources/transportation.mp4'\n",
        "queue_param = '/data/queue_param/transportation.npy'\n",
        "output = f'/output/results/transportation/{device}'\n",
        "people = '7'\n",
        "script = 'queue_job.sh'\n",
        "script_args = f'{model} {device} {video} {queue_param} {output} {people}'\n",
        "qsub_args = f'-d . -l nodes={device_node} -N store_core'\n",
        "command = f'qsub {script} {qsub_args} -F \"{script_args}\"'\n",
        "vpu_job_id = !$command\n",
        "\n",
        "print(vpu_job_id[0])"
      ],
      "execution_count": 0,
      "outputs": []
    },
    {
      "cell_type": "markdown",
      "metadata": {
        "id": "dFYvB0v63JhR",
        "colab_type": "text"
      },
      "source": [
        "### Check Job Status\n",
        "\n",
        "To check on the job that was submitted, use `liveQStat` to check the status of the job.\n",
        "\n",
        "Column `S` shows the state of your running jobs.\n",
        "\n",
        "For example:\n",
        "- If `JOB ID`is in Q state, it is in the queue waiting for available resources.\n",
        "- If `JOB ID` is in R state, it is running."
      ]
    },
    {
      "cell_type": "code",
      "metadata": {
        "id": "6Fzcjgu03JhS",
        "colab_type": "code",
        "colab": {}
      },
      "source": [
        "import liveQStat\n",
        "liveQStat.liveQStat()"
      ],
      "execution_count": 0,
      "outputs": []
    },
    {
      "cell_type": "markdown",
      "metadata": {
        "id": "JhVnY12L3JhW",
        "colab_type": "text"
      },
      "source": [
        "#### Get Results\n",
        "\n",
        "Run the next cell to retrieve your job's results."
      ]
    },
    {
      "cell_type": "code",
      "metadata": {
        "id": "8oXhc3XF3JhX",
        "colab_type": "code",
        "colab": {}
      },
      "source": [
        "import get_results\n",
        "get_results.getResults(vpu_job_id[0], filename='output.tgz', blocking=True)"
      ],
      "execution_count": 0,
      "outputs": []
    },
    {
      "cell_type": "markdown",
      "metadata": {
        "id": "pd2slRCb3Jhc",
        "colab_type": "text"
      },
      "source": [
        "#### Unpack your output files and view stdout.log"
      ]
    },
    {
      "cell_type": "code",
      "metadata": {
        "id": "ok62imG73Jhd",
        "colab_type": "code",
        "colab": {}
      },
      "source": [
        "!tar zxf output.tgz"
      ],
      "execution_count": 0,
      "outputs": []
    },
    {
      "cell_type": "code",
      "metadata": {
        "id": "MDKyP-hN3Jhg",
        "colab_type": "code",
        "colab": {}
      },
      "source": [
        "!cat stdout.log"
      ],
      "execution_count": 0,
      "outputs": []
    },
    {
      "cell_type": "markdown",
      "metadata": {
        "id": "bQEv8JQl3Jhl",
        "colab_type": "text"
      },
      "source": [
        "#### View stderr.log\n",
        "This can be used for debugging"
      ]
    },
    {
      "cell_type": "code",
      "metadata": {
        "id": "-UU7yw493Jhl",
        "colab_type": "code",
        "colab": {}
      },
      "source": [
        "!cat stderr.log"
      ],
      "execution_count": 0,
      "outputs": []
    },
    {
      "cell_type": "markdown",
      "metadata": {
        "id": "gJ-bkBcP3Jho",
        "colab_type": "text"
      },
      "source": [
        "#### View Output Video\n",
        "Run the cell below to view the output video. If inference was successfully run, you should see a video with bounding boxes drawn around each person detected."
      ]
    },
    {
      "cell_type": "code",
      "metadata": {
        "id": "y2P6Hstz3Jhp",
        "colab_type": "code",
        "colab": {}
      },
      "source": [
        "import videoHtml\n",
        "\n",
        "videoHtml.videoHTML('Transportation VPU', ['results/transportation/vpu/output_video.mp4'])"
      ],
      "execution_count": 0,
      "outputs": []
    },
    {
      "cell_type": "markdown",
      "metadata": {
        "id": "FyO95khW3Jhu",
        "colab_type": "text"
      },
      "source": [
        "## Step 1.4: Submit to an Edge Compute Node with IEI Mustang-F100-A10\n",
        "In the cell below, write a script to submit a job to an <a \n",
        "    href=\"https://software.intel.com/en-us/iot/hardware/iei-tank-dev-kit-core\">IEI \n",
        "    Tank 870-Q170</a> edge node with an <a href=\"https://ark.intel.com/products/88186/Intel-Core-i5-6500TE-Processor-6M-Cache-up-to-3-30-GHz-\">Intel Core™ i5-6500te CPU</a> . The inference workload will run on the <a href=\"https://www.ieiworld.com/mustang-f100/en/\"> IEI Mustang-F100-A10 </a> FPGA card installed in this node."
      ]
    },
    {
      "cell_type": "code",
      "metadata": {
        "id": "yg4gZ7b33Jhv",
        "colab_type": "code",
        "colab": {}
      },
      "source": [
        "#Submit job to the queue\n",
        "precision = 'FP32'\n",
        "device = 'HETERO:FPGA,CPU'\n",
        "device_node = '1:tank-870:i5-6500te:iei-mustang-f100-a10'\n",
        "model = f'/data/models/intel/person-detection-retail-0013/{precision}/person-detection-retail-0013'\n",
        "video = '/data/resources/transportation.mp4'\n",
        "queue_param = '/data/queue_param/transportation.npy'\n",
        "output = f'/output/results/transportation/{device}'\n",
        "people = '7'\n",
        "script = 'queue_job.sh'\n",
        "script_args = f'{model} {device} {video} {queue_param} {output} {people}'\n",
        "qsub_args = f'-d . -l nodes={device_node} -N store_core'\n",
        "command = f'qsub {script} {qsub_args} -F \"{script_args}\"'\n",
        "fpga_job_id = !$command\n",
        "\n",
        "print(fpga_job_id[0])"
      ],
      "execution_count": 0,
      "outputs": []
    },
    {
      "cell_type": "markdown",
      "metadata": {
        "id": "XrIq-YEC3Jhz",
        "colab_type": "text"
      },
      "source": [
        "### Check Job Status\n",
        "\n",
        "To check on the job that was submitted, use `liveQStat` to check the status of the job.\n",
        "\n",
        "Column `S` shows the state of your running jobs.\n",
        "\n",
        "For example:\n",
        "- If `JOB ID`is in Q state, it is in the queue waiting for available resources.\n",
        "- If `JOB ID` is in R state, it is running."
      ]
    },
    {
      "cell_type": "code",
      "metadata": {
        "id": "zGtjflQo3Jh0",
        "colab_type": "code",
        "colab": {}
      },
      "source": [
        "import liveQStat\n",
        "liveQStat.liveQStat()"
      ],
      "execution_count": 0,
      "outputs": []
    },
    {
      "cell_type": "markdown",
      "metadata": {
        "id": "3nfKqvYw3Jh3",
        "colab_type": "text"
      },
      "source": [
        "#### Get Results\n",
        "\n",
        "Run the next cell to retrieve your job's results."
      ]
    },
    {
      "cell_type": "code",
      "metadata": {
        "id": "sJThcp3F3Jh4",
        "colab_type": "code",
        "colab": {}
      },
      "source": [
        "import get_results\n",
        "get_results.getResults(fpga_job_id[0], filename='output.tgz', blocking=True)"
      ],
      "execution_count": 0,
      "outputs": []
    },
    {
      "cell_type": "markdown",
      "metadata": {
        "id": "OzjJdfRB3Jh8",
        "colab_type": "text"
      },
      "source": [
        "#### Unpack your output files and view stdout.log"
      ]
    },
    {
      "cell_type": "code",
      "metadata": {
        "id": "Bh0R8aqh3Jh8",
        "colab_type": "code",
        "colab": {}
      },
      "source": [
        "!tar zxf output.tgz"
      ],
      "execution_count": 0,
      "outputs": []
    },
    {
      "cell_type": "code",
      "metadata": {
        "id": "e9-9L8453JiB",
        "colab_type": "code",
        "colab": {}
      },
      "source": [
        "!cat stdout.log"
      ],
      "execution_count": 0,
      "outputs": []
    },
    {
      "cell_type": "markdown",
      "metadata": {
        "id": "GU8ZaWJG3JiF",
        "colab_type": "text"
      },
      "source": [
        "#### View stderr.log\n",
        "This can be used for debugging"
      ]
    },
    {
      "cell_type": "code",
      "metadata": {
        "id": "ARmm5XSF3JiG",
        "colab_type": "code",
        "colab": {}
      },
      "source": [
        "!cat stderr.log"
      ],
      "execution_count": 0,
      "outputs": []
    },
    {
      "cell_type": "markdown",
      "metadata": {
        "id": "UpXhRyQI3JiJ",
        "colab_type": "text"
      },
      "source": [
        "#### View Output Video\n",
        "Run the cell below to view the output video. If inference was successfully run, you should see a video with bounding boxes drawn around each person detected."
      ]
    },
    {
      "cell_type": "code",
      "metadata": {
        "id": "_Hl2vY_T3JiJ",
        "colab_type": "code",
        "colab": {}
      },
      "source": [
        "import videoHtml\n",
        "\n",
        "videoHtml.videoHTML('Transportation FPGA', ['results/transportation/fpga/output_video.mp4'])"
      ],
      "execution_count": 0,
      "outputs": []
    },
    {
      "cell_type": "markdown",
      "metadata": {
        "id": "9eNLl30G3Jib",
        "colab_type": "text"
      },
      "source": [
        "***Wait!***\n",
        "\n",
        "Please wait for all the inference jobs and video rendering to complete before proceeding to the next step.\n",
        "\n",
        "## Step 2: Assess Performance\n",
        "\n",
        "Run the cells below to compare the performance across all 4 devices. The following timings for the model are being comapred across all 4 devices:\n",
        "\n",
        "- Model Loading Time\n",
        "- Average Inference Time\n",
        "- FPS"
      ]
    },
    {
      "cell_type": "code",
      "metadata": {
        "id": "9xBDYF9a3Jib",
        "colab_type": "code",
        "colab": {}
      },
      "source": [
        "import matplotlib.pyplot as plt\n",
        "\n",
        "devices={'cpu':'CPU', 'gpu':'GPU', 'fpga': 'HETERO:FPGA,CPU', 'vpu':'MYRIAD'}\n",
        "device_list = devices.keys()\n",
        "inference_time=[]\n",
        "fps=[]\n",
        "model_load_time=[]\n",
        "\n",
        "for device in device_list:\n",
        "    with open('results/manufacturing/'+devices[device]+'/stats.txt', 'r') as f:\n",
        "        inference_time.append(float(f.readline().split(\"\\n\")[0]))\n",
        "        fps.append(float(f.readline().split(\"\\n\")[0]))\n",
        "        model_load_time.append(float(f.readline().split(\"\\n\")[0]))"
      ],
      "execution_count": 0,
      "outputs": []
    },
    {
      "cell_type": "code",
      "metadata": {
        "id": "IhRBXV7a3Jii",
        "colab_type": "code",
        "colab": {}
      },
      "source": [
        "plt.bar(device_list, inference_time)\n",
        "plt.xlabel(\"Device Used\")\n",
        "plt.ylabel(\"Total Inference Time in Seconds\")\n",
        "plt.show()"
      ],
      "execution_count": 0,
      "outputs": []
    },
    {
      "cell_type": "code",
      "metadata": {
        "id": "tZCk5uWk3Jim",
        "colab_type": "code",
        "colab": {}
      },
      "source": [
        "plt.bar(device_list, fps)\n",
        "plt.xlabel(\"Device Used\")\n",
        "plt.ylabel(\"Frames per Second\")\n",
        "plt.show()"
      ],
      "execution_count": 0,
      "outputs": []
    },
    {
      "cell_type": "code",
      "metadata": {
        "id": "J_78x8d83Jir",
        "colab_type": "code",
        "colab": {}
      },
      "source": [
        "plt.bar(device_list, model_load_time)\n",
        "plt.xlabel(\"Device Used\")\n",
        "plt.ylabel(\"Model Loading Time in Seconds\")\n",
        "plt.show()"
      ],
      "execution_count": 0,
      "outputs": []
    },
    {
      "cell_type": "markdown",
      "metadata": {
        "id": "9Yz6cF_l3Jiw",
        "colab_type": "text"
      },
      "source": [
        "# Step 3: Update Proposal Document\n",
        "\n",
        "Now that you've completed your hardware testing, you should go back to the proposal document and validate or update your originally proposed hardware. Once you've updated your proposal, you can move onto the next scenario."
      ]
    }
  ]
}