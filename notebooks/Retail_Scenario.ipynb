{
  "nbformat": 4,
  "nbformat_minor": 0,
  "metadata": {
    "kernelspec": {
      "display_name": "Python 3",
      "language": "python",
      "name": "python3"
    },
    "language_info": {
      "codemirror_mode": {
        "name": "ipython",
        "version": 3
      },
      "file_extension": ".py",
      "mimetype": "text/x-python",
      "name": "python",
      "nbconvert_exporter": "python",
      "pygments_lexer": "ipython3",
      "version": "3.6.3"
    },
    "colab": {
      "name": "Retail_Scenario.ipynb",
      "provenance": [],
      "include_colab_link": true
    }
  },
  "cells": [
    {
      "cell_type": "markdown",
      "metadata": {
        "id": "view-in-github",
        "colab_type": "text"
      },
      "source": [
        "<a href=\"https://colab.research.google.com/github/shortcipher3/nd131_smart_queuing/blob/master/notebooks/Retail_Scenario.ipynb\" target=\"_parent\"><img src=\"https://colab.research.google.com/assets/colab-badge.svg\" alt=\"Open In Colab\"/></a>"
      ]
    },
    {
      "cell_type": "markdown",
      "metadata": {
        "id": "Mp-f0mtO3DqJ",
        "colab_type": "text"
      },
      "source": [
        "# Smart Queue Monitoring System - Retail Scenario\n",
        "\n",
        "## Overview\n",
        "Now that you have your Python script and job submission script, you're ready to request an **IEI Tank-870** edge node and run inference on the different hardware types (CPU, GPU, VPU, FPGA).\n",
        "\n",
        "After the inference is completed, the output video and stats files need to be retrieved and stored in the workspace, which can then be viewed within the Jupyter Notebook.\n",
        "\n",
        "## Objectives\n",
        "* Submit inference jobs to Intel's DevCloud using the `qsub` command.\n",
        "* Retrieve and review the results.\n",
        "* After testing, go back to the proposal doc and update your original proposed hardware device."
      ]
    },
    {
      "cell_type": "markdown",
      "metadata": {
        "id": "H76hjmTE3DqL",
        "colab_type": "text"
      },
      "source": [
        "## Step 0: Set Up\n",
        "\n",
        "#### IMPORTANT: Set up paths so we can run Dev Cloud utilities\n",
        "You *must* run this every time you enter a Workspace session.\n",
        "(Tip: select the cell and use **Shift+Enter** to run the cell.)"
      ]
    },
    {
      "cell_type": "code",
      "metadata": {
        "id": "rzRR_D3D3DqM",
        "colab_type": "code",
        "colab": {}
      },
      "source": [
        "%env PATH=/opt/conda/bin:/opt/spark-2.4.3-bin-hadoop2.7/bin:/opt/conda/bin:/usr/local/sbin:/usr/local/bin:/usr/sbin:/usr/bin:/sbin:/bin:/opt/intel_devcloud_support\n",
        "import os\n",
        "import sys\n",
        "sys.path.insert(0, os.path.abspath('/opt/intel_devcloud_support'))\n",
        "sys.path.insert(0, os.path.abspath('/opt/intel'))"
      ],
      "execution_count": 0,
      "outputs": []
    },
    {
      "cell_type": "markdown",
      "metadata": {
        "id": "oG0olesw3DqU",
        "colab_type": "text"
      },
      "source": [
        "### Step 0.1:  (Optional-step): Original Video\n",
        "\n",
        "If you are curious to see the input video, run the following cell to view the original video stream we'll be using for inference."
      ]
    },
    {
      "cell_type": "code",
      "metadata": {
        "id": "0pITXY1e3DqW",
        "colab_type": "code",
        "colab": {}
      },
      "source": [
        "import videoHtml\n",
        "videoHtml.videoHTML('Retail', ['original_videos/Retail.mp4'])"
      ],
      "execution_count": 0,
      "outputs": []
    },
    {
      "cell_type": "markdown",
      "metadata": {
        "id": "OwpUpvoM3Dqd",
        "colab_type": "text"
      },
      "source": [
        "## Step 1 : Inference on a Video\n",
        "\n",
        "In the next few cells, You'll submit your job using the `qsub` command and retrieving the results for each job. Each of the cells below should submit a job to different edge compute nodes.\n",
        "\n",
        "The output of the cell is the `JobID` of your job, which you can use to track progress of a job with `liveQStat`.\n",
        "\n",
        "You will need to submit a job for each of the following hardware types:\n",
        "* **CPU**\n",
        "* **GPU**\n",
        "* **VPU**\n",
        "* **FPGA**\n",
        "\n",
        "**Note** You will have to submit each job one at a time and retrieve their results. \n",
        "\n",
        "After submission, they will go into a queue and run as soon as the requested compute resources become available. \n",
        "(Tip: **shift+enter** will run the cell and automatically move you to the next cell.)\n",
        "\n",
        "If your job successfully runs and completes, once you retrieve your results, it should output a video and a stats text file in the `results/retail/<DEVICE>` directory.\n",
        "\n",
        "For example, your **CPU** job should output its files in this directory:\n",
        "> **results/retail/cpu**\n",
        "\n",
        "**Note**: To get the queue labels for the different hardware devices, you can go to [this link](https://devcloud.intel.com/edge/get_started/devcloud/).\n",
        "\n",
        "The following arguments should be passed to the job submission script after the `-F` flag:\n",
        "* Model path - `/data/models/intel/person-detection-retail-0013/<MODEL PRECISION>/`. You will need to adjust this path based on the model precision being using on the hardware.\n",
        "* Device - `CPU`, `GPU`, `MYRIAD`, `HETERO:FPGA,CPU`\n",
        "* Manufacturing video path - `/data/resources/retail.mp4`\n",
        "* Manufacturing queue_param file path - `/data/queue_param/retail.npy`\n",
        "* Output path - `/output/results/retail/<DEVICE>` This should be adjusted based on the device used in the job.\n",
        "* Max num of people - This is the max number of people in queue before the system would redirect them to another queue."
      ]
    },
    {
      "cell_type": "markdown",
      "metadata": {
        "id": "02JO6OGZ3Dqe",
        "colab_type": "text"
      },
      "source": [
        "## Step 1.1: Submit to an Edge Compute Node with an Intel CPU\n",
        "In the cell below, write a script to submit a job to an <a \n",
        "    href=\"https://software.intel.com/en-us/iot/hardware/iei-tank-dev-kit-core\">IEI \n",
        "    Tank* 870-Q170</a> edge node with an <a \n",
        "    href=\"https://ark.intel.com/products/88186/Intel-Core-i5-6500TE-Processor-6M-Cache-up-to-3-30-GHz-\">Intel® Core™ i5-6500TE processor</a>. The inference workload should run on the CPU."
      ]
    },
    {
      "cell_type": "code",
      "metadata": {
        "id": "cqZW7RND3Dqg",
        "colab_type": "code",
        "colab": {}
      },
      "source": [
        "#Submit job to the queue\n",
        "precision = 'FP32'\n",
        "device = 'CPU'\n",
        "device_node = 'tank-870:i5-6500te'\n",
        "model = f'/data/models/intel/person-detection-retail-0013/{precision}/person-detection-retail-0013'\n",
        "video = '/data/resources/retail.mp4'\n",
        "queue_param = '/data/queue_param/retail.npy'\n",
        "output = f'/output/results/retail/{device}'\n",
        "people = '2'\n",
        "script = 'queue_job.sh'\n",
        "script_args = f'{model} {device} {video} {queue_param} {output} {people}'\n",
        "qsub_args = f'-d . -l nodes={device_node} -N store_core'\n",
        "command = f'qsub {script} {qsub_args} -F \"{script_args}\"'\n",
        "cpu_job_id = !$command\n",
        "\n",
        "print(cpu_job_id[0])"
      ],
      "execution_count": 0,
      "outputs": []
    },
    {
      "cell_type": "markdown",
      "metadata": {
        "id": "SJxkhAhD3Dqp",
        "colab_type": "text"
      },
      "source": [
        "#### Check Job Status\n",
        "\n",
        "To check on the job that was submitted, use `liveQStat` to check the status of the job.\n",
        "\n",
        "Column `S` shows the state of your running jobs.\n",
        "\n",
        "For example:\n",
        "- If `JOB ID`is in Q state, it is in the queue waiting for available resources.\n",
        "- If `JOB ID` is in R state, it is running."
      ]
    },
    {
      "cell_type": "code",
      "metadata": {
        "id": "CQvs7xKU3Dqr",
        "colab_type": "code",
        "colab": {}
      },
      "source": [
        "import liveQStat\n",
        "liveQStat.liveQStat()"
      ],
      "execution_count": 0,
      "outputs": []
    },
    {
      "cell_type": "markdown",
      "metadata": {
        "id": "KtChyoi-3Dqy",
        "colab_type": "text"
      },
      "source": [
        "#### Get Results\n",
        "\n",
        "Run the next cell to retrieve your job's results."
      ]
    },
    {
      "cell_type": "code",
      "metadata": {
        "id": "pNW8nr8f3Dq1",
        "colab_type": "code",
        "colab": {}
      },
      "source": [
        "import get_results\n",
        "get_results.getResults(cpu_job_id[0], filename='output.tgz', blocking=True)"
      ],
      "execution_count": 0,
      "outputs": []
    },
    {
      "cell_type": "markdown",
      "metadata": {
        "id": "HX_1Lepf3Dq7",
        "colab_type": "text"
      },
      "source": [
        "#### Unpack your output files and view stdout.log"
      ]
    },
    {
      "cell_type": "code",
      "metadata": {
        "id": "BLywRH4x3Dq9",
        "colab_type": "code",
        "colab": {}
      },
      "source": [
        "!tar zxf output.tgz"
      ],
      "execution_count": 0,
      "outputs": []
    },
    {
      "cell_type": "code",
      "metadata": {
        "id": "OgK37-B_3DrE",
        "colab_type": "code",
        "colab": {}
      },
      "source": [
        "!cat stdout.log"
      ],
      "execution_count": 0,
      "outputs": []
    },
    {
      "cell_type": "markdown",
      "metadata": {
        "id": "17bCiolc3DrJ",
        "colab_type": "text"
      },
      "source": [
        "#### View stderr.log\n",
        "This can be used for debugging"
      ]
    },
    {
      "cell_type": "code",
      "metadata": {
        "id": "9u3cseUb3DrK",
        "colab_type": "code",
        "colab": {}
      },
      "source": [
        "!cat stderr.log"
      ],
      "execution_count": 0,
      "outputs": []
    },
    {
      "cell_type": "markdown",
      "metadata": {
        "id": "NwVVrtZx3DrQ",
        "colab_type": "text"
      },
      "source": [
        "#### View Output Video\n",
        "Run the cell below to view the output video. If inference was successfully run, you should see a video with bounding boxes drawn around each person detected."
      ]
    },
    {
      "cell_type": "code",
      "metadata": {
        "id": "WzBJSdUU3DrR",
        "colab_type": "code",
        "colab": {}
      },
      "source": [
        "import videoHtml\n",
        "\n",
        "videoHtml.videoHTML('Retail CPU', ['results/retail/cpu/output_video.mp4'])"
      ],
      "execution_count": 0,
      "outputs": []
    },
    {
      "cell_type": "markdown",
      "metadata": {
        "id": "2BxL3Xwo3DrX",
        "colab_type": "text"
      },
      "source": [
        "## Step 1.2: Submit to an Edge Compute Node with a CPU and IGPU\n",
        "In the cell below, write a script to submit a job to an <a \n",
        "    href=\"https://software.intel.com/en-us/iot/hardware/iei-tank-dev-kit-core\">IEI \n",
        "    Tank* 870-Q170</a> edge node with an <a href=\"https://ark.intel.com/products/88186/Intel-Core-i5-6500TE-Processor-6M-Cache-up-to-3-30-GHz-\">Intel® Core i5-6500TE</a>. The inference workload should run on the **Intel® HD Graphics 530** integrated GPU."
      ]
    },
    {
      "cell_type": "code",
      "metadata": {
        "id": "V8mnojHO3Dra",
        "colab_type": "code",
        "colab": {}
      },
      "source": [
        "#Submit job to the queue\n",
        "precision = 'FP32'\n",
        "device = 'GPU'\n",
        "device_node = 'tank-870:i5-6500te:intel-hd-530'\n",
        "model = f'/data/models/intel/person-detection-retail-0013/{precision}/person-detection-retail-0013'\n",
        "video = '/data/resources/retail.mp4'\n",
        "queue_param = '/data/queue_param/retail.npy'\n",
        "output = f'/output/results/retail/{device}'\n",
        "people = '2'\n",
        "script = 'queue_job.sh'\n",
        "script_args = f'{model} {device} {video} {queue_param} {output} {people}'\n",
        "qsub_args = f'-d . -l nodes={device_node} -N store_core'\n",
        "command = f'qsub {script} {qsub_args} -F \"{script_args}\"'\n",
        "gpu_job_id = !$command\n",
        "\n",
        "print(gpu_job_id[0])"
      ],
      "execution_count": 0,
      "outputs": []
    },
    {
      "cell_type": "markdown",
      "metadata": {
        "id": "5lG5hZ7A3Drf",
        "colab_type": "text"
      },
      "source": [
        "### Check Job Status\n",
        "\n",
        "To check on the job that was submitted, use `liveQStat` to check the status of the job.\n",
        "\n",
        "Column `S` shows the state of your running jobs.\n",
        "\n",
        "For example:\n",
        "- If `JOB ID`is in Q state, it is in the queue waiting for available resources.\n",
        "- If `JOB ID` is in R state, it is running."
      ]
    },
    {
      "cell_type": "code",
      "metadata": {
        "id": "UtJ_MnEJ3Drg",
        "colab_type": "code",
        "colab": {}
      },
      "source": [
        "import liveQStat\n",
        "liveQStat.liveQStat()"
      ],
      "execution_count": 0,
      "outputs": []
    },
    {
      "cell_type": "markdown",
      "metadata": {
        "id": "WfnJ00b33Drl",
        "colab_type": "text"
      },
      "source": [
        "#### Get Results\n",
        "\n",
        "Run the next cell to retrieve your job's results."
      ]
    },
    {
      "cell_type": "code",
      "metadata": {
        "id": "ofdDybzm3Drm",
        "colab_type": "code",
        "colab": {}
      },
      "source": [
        "import get_results\n",
        "get_results.getResults(gpu_job_id[0], filename='output.tgz', blocking=True)"
      ],
      "execution_count": 0,
      "outputs": []
    },
    {
      "cell_type": "markdown",
      "metadata": {
        "id": "9tI2LD4n3Drq",
        "colab_type": "text"
      },
      "source": [
        "#### Unpack your output files and view stdout.log"
      ]
    },
    {
      "cell_type": "code",
      "metadata": {
        "id": "NRqrsc8o3Drr",
        "colab_type": "code",
        "colab": {}
      },
      "source": [
        "!tar zxf output.tgz"
      ],
      "execution_count": 0,
      "outputs": []
    },
    {
      "cell_type": "code",
      "metadata": {
        "id": "ErQ8NUaR3Drw",
        "colab_type": "code",
        "colab": {}
      },
      "source": [
        "!cat stdout.log"
      ],
      "execution_count": 0,
      "outputs": []
    },
    {
      "cell_type": "markdown",
      "metadata": {
        "id": "PLyu5E4G3Dr2",
        "colab_type": "text"
      },
      "source": [
        "#### View stderr.log\n",
        "This can be used for debugging"
      ]
    },
    {
      "cell_type": "code",
      "metadata": {
        "id": "XTDrJlAs3Dr3",
        "colab_type": "code",
        "colab": {}
      },
      "source": [
        "!cat stderr.log"
      ],
      "execution_count": 0,
      "outputs": []
    },
    {
      "cell_type": "markdown",
      "metadata": {
        "id": "tmVpI47-3Dr8",
        "colab_type": "text"
      },
      "source": [
        "#### View Output Video\n",
        "Run the cell below to view the output video. If inference was successfully run, you should see a video with bounding boxes drawn around each person detected."
      ]
    },
    {
      "cell_type": "code",
      "metadata": {
        "id": "hQ5FhtLX3Dr-",
        "colab_type": "code",
        "colab": {}
      },
      "source": [
        "import videoHtml\n",
        "\n",
        "videoHtml.videoHTML('Retail GPU', ['results/retail/gpu/output_video.mp4'])"
      ],
      "execution_count": 0,
      "outputs": []
    },
    {
      "cell_type": "markdown",
      "metadata": {
        "id": "RsyDtrQT3DsE",
        "colab_type": "text"
      },
      "source": [
        "## Step 1.3: Submit to an Edge Compute Node with an Intel® Neural Compute Stick 2\n",
        "In the cell below, write a script to submit a job to an <a \n",
        "    href=\"https://software.intel.com/en-us/iot/hardware/iei-tank-dev-kit-core\">IEI \n",
        "    Tank 870-Q170</a> edge node with an <a href=\"https://ark.intel.com/products/88186/Intel-Core-i5-6500TE-Processor-6M-Cache-up-to-3-30-GHz-\">Intel Core i5-6500te CPU</a>. The inference workload should run on an <a \n",
        "    href=\"https://software.intel.com/en-us/neural-compute-stick\">Intel Neural Compute Stick 2</a> installed in this  node."
      ]
    },
    {
      "cell_type": "code",
      "metadata": {
        "id": "vMhzRm3M3DsG",
        "colab_type": "code",
        "colab": {}
      },
      "source": [
        "#Submit job to the queue\n",
        "precision = 'FP32'\n",
        "device = 'MYRIAD'\n",
        "device_node = 'tank-870:i5-6500te:intel-hd-530:intel-ncs2'\n",
        "model = f'/data/models/intel/person-detection-retail-0013/{precision}/person-detection-retail-0013'\n",
        "video = '/data/resources/retail.mp4'\n",
        "queue_param = '/data/queue_param/retail.npy'\n",
        "output = f'/output/results/retail/{device}'\n",
        "people = '2'\n",
        "script = 'queue_job.sh'\n",
        "script_args = f'{model} {device} {video} {queue_param} {output} {people}'\n",
        "qsub_args = f'-d . -l nodes={device_node} -N store_core'\n",
        "command = f'qsub {script} {qsub_args} -F \"{script_args}\"'\n",
        "vpu_job_id = !$command\n",
        "\n",
        "print(vpu_job_id[0])"
      ],
      "execution_count": 0,
      "outputs": []
    },
    {
      "cell_type": "markdown",
      "metadata": {
        "id": "lxRoQ5Ao3DsM",
        "colab_type": "text"
      },
      "source": [
        "### Check Job Status\n",
        "\n",
        "To check on the job that was submitted, use `liveQStat` to check the status of the job.\n",
        "\n",
        "Column `S` shows the state of your running jobs.\n",
        "\n",
        "For example:\n",
        "- If `JOB ID`is in Q state, it is in the queue waiting for available resources.\n",
        "- If `JOB ID` is in R state, it is running."
      ]
    },
    {
      "cell_type": "code",
      "metadata": {
        "id": "r27p7wQo3DsN",
        "colab_type": "code",
        "colab": {}
      },
      "source": [
        "import liveQStat\n",
        "liveQStat.liveQStat()"
      ],
      "execution_count": 0,
      "outputs": []
    },
    {
      "cell_type": "markdown",
      "metadata": {
        "id": "TpJ-y22s3DsQ",
        "colab_type": "text"
      },
      "source": [
        "#### Get Results\n",
        "\n",
        "Run the next cell to retrieve your job's results."
      ]
    },
    {
      "cell_type": "code",
      "metadata": {
        "id": "H0-1iRSU3DsQ",
        "colab_type": "code",
        "colab": {}
      },
      "source": [
        "import get_results\n",
        "get_results.getResults(vpu_job_id[0], filename='output.tgz', blocking=True)"
      ],
      "execution_count": 0,
      "outputs": []
    },
    {
      "cell_type": "markdown",
      "metadata": {
        "id": "SjIIkJUn3DsU",
        "colab_type": "text"
      },
      "source": [
        "#### Unpack your output files and view stdout.log"
      ]
    },
    {
      "cell_type": "code",
      "metadata": {
        "id": "_7y6Va8Z3DsU",
        "colab_type": "code",
        "colab": {}
      },
      "source": [
        "!tar zxf output.tgz"
      ],
      "execution_count": 0,
      "outputs": []
    },
    {
      "cell_type": "code",
      "metadata": {
        "id": "Bo9j-Uo_3DsX",
        "colab_type": "code",
        "colab": {}
      },
      "source": [
        "!cat stdout.log"
      ],
      "execution_count": 0,
      "outputs": []
    },
    {
      "cell_type": "markdown",
      "metadata": {
        "id": "r_djByGg3Dsc",
        "colab_type": "text"
      },
      "source": [
        "#### View stderr.log\n",
        "This can be used for debugging"
      ]
    },
    {
      "cell_type": "code",
      "metadata": {
        "id": "MriBfbhX3Dsd",
        "colab_type": "code",
        "colab": {}
      },
      "source": [
        "!cat stderr.log"
      ],
      "execution_count": 0,
      "outputs": []
    },
    {
      "cell_type": "markdown",
      "metadata": {
        "id": "aoKFMAMl3Dsi",
        "colab_type": "text"
      },
      "source": [
        "#### View Output Video\n",
        "Run the cell below to view the output video. If inference was successfully run, you should see a video with bounding boxes drawn around each person detected."
      ]
    },
    {
      "cell_type": "code",
      "metadata": {
        "id": "gfNQpiPy3Dsk",
        "colab_type": "code",
        "colab": {}
      },
      "source": [
        "import videoHtml\n",
        "\n",
        "videoHtml.videoHTML('Retail VPU', ['results/retail/vpu/output_video.mp4'])"
      ],
      "execution_count": 0,
      "outputs": []
    },
    {
      "cell_type": "markdown",
      "metadata": {
        "id": "xfvJmHSV3Dsn",
        "colab_type": "text"
      },
      "source": [
        "## Step 1.4: Submit to an Edge Compute Node with IEI Mustang-F100-A10\n",
        "In the cell below, write a script to submit a job to an <a \n",
        "    href=\"https://software.intel.com/en-us/iot/hardware/iei-tank-dev-kit-core\">IEI \n",
        "    Tank 870-Q170</a> edge node with an <a href=\"https://ark.intel.com/products/88186/Intel-Core-i5-6500TE-Processor-6M-Cache-up-to-3-30-GHz-\">Intel Core™ i5-6500te CPU</a> . The inference workload will run on the <a href=\"https://www.ieiworld.com/mustang-f100/en/\"> IEI Mustang-F100-A10 </a> FPGA card installed in this node."
      ]
    },
    {
      "cell_type": "code",
      "metadata": {
        "id": "m-rqubA03Dsn",
        "colab_type": "code",
        "colab": {}
      },
      "source": [
        "#Submit job to the queue\n",
        "precision = 'FP32'\n",
        "device = 'HETERO:FPGA,CPU'\n",
        "device_node = '1:tank-870:i5-6500te:iei-mustang-f100-a10'\n",
        "model = f'/data/models/intel/person-detection-retail-0013/{precision}/person-detection-retail-0013'\n",
        "video = '/data/resources/retail.mp4'\n",
        "queue_param = '/data/queue_param/retail.npy'\n",
        "output = f'/output/results/retail/{device}'\n",
        "people = '2'\n",
        "script = 'queue_job.sh'\n",
        "script_args = f'{model} {device} {video} {queue_param} {output} {people}'\n",
        "qsub_args = f'-d . -l nodes={device_node} -N store_core'\n",
        "command = f'qsub {script} {qsub_args} -F \"{script_args}\"'\n",
        "fpga_job_id = !$command\n",
        "\n",
        "print(fpga_job_id[0])"
      ],
      "execution_count": 0,
      "outputs": []
    },
    {
      "cell_type": "markdown",
      "metadata": {
        "id": "hjiKi_Ye3Dsq",
        "colab_type": "text"
      },
      "source": [
        "### Check Job Status\n",
        "\n",
        "To check on the job that was submitted, use `liveQStat` to check the status of the job.\n",
        "\n",
        "Column `S` shows the state of your running jobs.\n",
        "\n",
        "For example:\n",
        "- If `JOB ID`is in Q state, it is in the queue waiting for available resources.\n",
        "- If `JOB ID` is in R state, it is running."
      ]
    },
    {
      "cell_type": "code",
      "metadata": {
        "id": "gFRDU7Ur3Dsr",
        "colab_type": "code",
        "colab": {}
      },
      "source": [
        "import liveQStat\n",
        "liveQStat.liveQStat()"
      ],
      "execution_count": 0,
      "outputs": []
    },
    {
      "cell_type": "markdown",
      "metadata": {
        "id": "gIPmdUW63Dsy",
        "colab_type": "text"
      },
      "source": [
        "#### Get Results\n",
        "\n",
        "Run the next cell to retrieve your job's results."
      ]
    },
    {
      "cell_type": "code",
      "metadata": {
        "id": "IDYUeP3B3Dsz",
        "colab_type": "code",
        "colab": {}
      },
      "source": [
        "import get_results\n",
        "get_results.getResults(fpga_job_id[0], filename='output.tgz', blocking=True)"
      ],
      "execution_count": 0,
      "outputs": []
    },
    {
      "cell_type": "markdown",
      "metadata": {
        "id": "8uMPBtxX3Ds5",
        "colab_type": "text"
      },
      "source": [
        "#### Unpack your output files and view stdout.log"
      ]
    },
    {
      "cell_type": "code",
      "metadata": {
        "id": "4_Y6myHx3Ds6",
        "colab_type": "code",
        "colab": {}
      },
      "source": [
        "!tar zxf output.tgz"
      ],
      "execution_count": 0,
      "outputs": []
    },
    {
      "cell_type": "code",
      "metadata": {
        "id": "2ZoJ8ZiH3DtD",
        "colab_type": "code",
        "colab": {}
      },
      "source": [
        "!cat stdout.log"
      ],
      "execution_count": 0,
      "outputs": []
    },
    {
      "cell_type": "markdown",
      "metadata": {
        "id": "t39E3D_33DtS",
        "colab_type": "text"
      },
      "source": [
        "#### View stderr.log\n",
        "This can be used for debugging"
      ]
    },
    {
      "cell_type": "code",
      "metadata": {
        "id": "ykwZOagj3DtT",
        "colab_type": "code",
        "colab": {}
      },
      "source": [
        "!cat stderr.log"
      ],
      "execution_count": 0,
      "outputs": []
    },
    {
      "cell_type": "markdown",
      "metadata": {
        "id": "4YbOD3JS3DtY",
        "colab_type": "text"
      },
      "source": [
        "#### View Output Video\n",
        "Run the cell below to view the output video. If inference was successfully run, you should see a video with bounding boxes drawn around each person detected."
      ]
    },
    {
      "cell_type": "code",
      "metadata": {
        "id": "WMAVKCcG3DtZ",
        "colab_type": "code",
        "colab": {}
      },
      "source": [
        "import videoHtml\n",
        "\n",
        "videoHtml.videoHTML('Retail FPGA', ['results/retail/fpga/output_video.mp4'])"
      ],
      "execution_count": 0,
      "outputs": []
    },
    {
      "cell_type": "markdown",
      "metadata": {
        "id": "MpKAh5I83Dtd",
        "colab_type": "text"
      },
      "source": [
        "***Wait!***\n",
        "\n",
        "Please wait for all the inference jobs and video rendering to complete before proceeding to the next step.\n",
        "\n",
        "## Step 2: Assess Performance\n",
        "\n",
        "Run the cells below to compare the performance across all 4 devices. The following timings for the model are being comapred across all 4 devices:\n",
        "\n",
        "- Model Loading Time\n",
        "- Average Inference Time\n",
        "- FPS"
      ]
    },
    {
      "cell_type": "code",
      "metadata": {
        "id": "9pFC26bG3Dte",
        "colab_type": "code",
        "colab": {}
      },
      "source": [
        "import matplotlib.pyplot as plt\n",
        "\n",
        "devices={'cpu':'CPU', 'gpu':'GPU', 'fpga': 'HETERO:FPGA,CPU', 'vpu':'MYRIAD'}\n",
        "device_list = devices.keys()\n",
        "inference_time=[]\n",
        "fps=[]\n",
        "model_load_time=[]\n",
        "\n",
        "for device in device_list:\n",
        "    with open('results/manufacturing/'+devices[device]+'/stats.txt', 'r') as f:\n",
        "        inference_time.append(float(f.readline().split(\"\\n\")[0]))\n",
        "        fps.append(float(f.readline().split(\"\\n\")[0]))\n",
        "        model_load_time.append(float(f.readline().split(\"\\n\")[0]))"
      ],
      "execution_count": 0,
      "outputs": []
    },
    {
      "cell_type": "code",
      "metadata": {
        "id": "V49SFOK93Dtj",
        "colab_type": "code",
        "colab": {}
      },
      "source": [
        "plt.bar(device_list, inference_time)\n",
        "plt.xlabel(\"Device Used\")\n",
        "plt.ylabel(\"Total Inference Time in Seconds\")\n",
        "plt.show()"
      ],
      "execution_count": 0,
      "outputs": []
    },
    {
      "cell_type": "code",
      "metadata": {
        "id": "FLHzBThb3Dtn",
        "colab_type": "code",
        "colab": {}
      },
      "source": [
        "plt.bar(device_list, fps)\n",
        "plt.xlabel(\"Device Used\")\n",
        "plt.ylabel(\"Frames per Second\")\n",
        "plt.show()"
      ],
      "execution_count": 0,
      "outputs": []
    },
    {
      "cell_type": "code",
      "metadata": {
        "id": "Ueyazp0I3Dtu",
        "colab_type": "code",
        "colab": {}
      },
      "source": [
        "plt.bar(device_list, model_load_time)\n",
        "plt.xlabel(\"Device Used\")\n",
        "plt.ylabel(\"Model Loading Time in Seconds\")\n",
        "plt.show()"
      ],
      "execution_count": 0,
      "outputs": []
    },
    {
      "cell_type": "markdown",
      "metadata": {
        "id": "4uwC4xC03Dtz",
        "colab_type": "text"
      },
      "source": [
        "# Step 3: Update Proposal Document\n",
        "\n",
        "Now that you've completed your hardware testing, you should go back to the proposal document and validate or update your originally proposed hardware. Once you've updated your proposal, you can move onto the next scenario."
      ]
    }
  ]
}